{
 "cells": [
  {
   "cell_type": "markdown",
   "id": "c19a9047-8113-4bbc-ba8a-ec93ffb32afd",
   "metadata": {},
   "source": [
    "### A/B testing \n"
   ]
  },
  {
   "cell_type": "code",
   "execution_count": 38,
   "id": "83f599ca-62b4-42da-81b8-d58ad900116d",
   "metadata": {},
   "outputs": [],
   "source": [
    "import pandas as pd \n",
    "import numpy as np \n",
    "import matplotlib.pyplot as plt\n",
    "from scipy.stats import norm \n",
    "from scipy.stats import chi2_contingency"
   ]
  },
  {
   "cell_type": "markdown",
   "id": "0c09660a-ea73-4c93-aefc-7ad16bb23e1d",
   "metadata": {},
   "source": [
    "### Charger les données : "
   ]
  },
  {
   "cell_type": "code",
   "execution_count": 3,
   "id": "2296cc7b-b673-4d73-ad7d-339f3aa61231",
   "metadata": {},
   "outputs": [],
   "source": [
    "df = pd.read_csv(\"ab_data.csv\")"
   ]
  },
  {
   "cell_type": "code",
   "execution_count": 4,
   "id": "843d1825-54a6-43b3-8ca6-4f1fb1b49bba",
   "metadata": {},
   "outputs": [
    {
     "data": {
      "text/html": [
       "<div>\n",
       "<style scoped>\n",
       "    .dataframe tbody tr th:only-of-type {\n",
       "        vertical-align: middle;\n",
       "    }\n",
       "\n",
       "    .dataframe tbody tr th {\n",
       "        vertical-align: top;\n",
       "    }\n",
       "\n",
       "    .dataframe thead th {\n",
       "        text-align: right;\n",
       "    }\n",
       "</style>\n",
       "<table border=\"1\" class=\"dataframe\">\n",
       "  <thead>\n",
       "    <tr style=\"text-align: right;\">\n",
       "      <th></th>\n",
       "      <th>user_id</th>\n",
       "      <th>timestamp</th>\n",
       "      <th>group</th>\n",
       "      <th>landing_page</th>\n",
       "      <th>converted</th>\n",
       "    </tr>\n",
       "  </thead>\n",
       "  <tbody>\n",
       "    <tr>\n",
       "      <th>0</th>\n",
       "      <td>851104</td>\n",
       "      <td>2017-01-21 22:11:48.556739</td>\n",
       "      <td>control</td>\n",
       "      <td>old_page</td>\n",
       "      <td>0</td>\n",
       "    </tr>\n",
       "    <tr>\n",
       "      <th>1</th>\n",
       "      <td>804228</td>\n",
       "      <td>2017-01-12 08:01:45.159739</td>\n",
       "      <td>control</td>\n",
       "      <td>old_page</td>\n",
       "      <td>0</td>\n",
       "    </tr>\n",
       "    <tr>\n",
       "      <th>2</th>\n",
       "      <td>661590</td>\n",
       "      <td>2017-01-11 16:55:06.154213</td>\n",
       "      <td>treatment</td>\n",
       "      <td>new_page</td>\n",
       "      <td>0</td>\n",
       "    </tr>\n",
       "    <tr>\n",
       "      <th>3</th>\n",
       "      <td>853541</td>\n",
       "      <td>2017-01-08 18:28:03.143765</td>\n",
       "      <td>treatment</td>\n",
       "      <td>new_page</td>\n",
       "      <td>0</td>\n",
       "    </tr>\n",
       "    <tr>\n",
       "      <th>4</th>\n",
       "      <td>864975</td>\n",
       "      <td>2017-01-21 01:52:26.210827</td>\n",
       "      <td>control</td>\n",
       "      <td>old_page</td>\n",
       "      <td>1</td>\n",
       "    </tr>\n",
       "    <tr>\n",
       "      <th>...</th>\n",
       "      <td>...</td>\n",
       "      <td>...</td>\n",
       "      <td>...</td>\n",
       "      <td>...</td>\n",
       "      <td>...</td>\n",
       "    </tr>\n",
       "    <tr>\n",
       "      <th>294473</th>\n",
       "      <td>751197</td>\n",
       "      <td>2017-01-03 22:28:38.630509</td>\n",
       "      <td>control</td>\n",
       "      <td>old_page</td>\n",
       "      <td>0</td>\n",
       "    </tr>\n",
       "    <tr>\n",
       "      <th>294474</th>\n",
       "      <td>945152</td>\n",
       "      <td>2017-01-12 00:51:57.078372</td>\n",
       "      <td>control</td>\n",
       "      <td>old_page</td>\n",
       "      <td>0</td>\n",
       "    </tr>\n",
       "    <tr>\n",
       "      <th>294475</th>\n",
       "      <td>734608</td>\n",
       "      <td>2017-01-22 11:45:03.439544</td>\n",
       "      <td>control</td>\n",
       "      <td>old_page</td>\n",
       "      <td>0</td>\n",
       "    </tr>\n",
       "    <tr>\n",
       "      <th>294476</th>\n",
       "      <td>697314</td>\n",
       "      <td>2017-01-15 01:20:28.957438</td>\n",
       "      <td>control</td>\n",
       "      <td>old_page</td>\n",
       "      <td>0</td>\n",
       "    </tr>\n",
       "    <tr>\n",
       "      <th>294477</th>\n",
       "      <td>715931</td>\n",
       "      <td>2017-01-16 12:40:24.467417</td>\n",
       "      <td>treatment</td>\n",
       "      <td>new_page</td>\n",
       "      <td>0</td>\n",
       "    </tr>\n",
       "  </tbody>\n",
       "</table>\n",
       "<p>294478 rows × 5 columns</p>\n",
       "</div>"
      ],
      "text/plain": [
       "        user_id                   timestamp      group landing_page  converted\n",
       "0        851104  2017-01-21 22:11:48.556739    control     old_page          0\n",
       "1        804228  2017-01-12 08:01:45.159739    control     old_page          0\n",
       "2        661590  2017-01-11 16:55:06.154213  treatment     new_page          0\n",
       "3        853541  2017-01-08 18:28:03.143765  treatment     new_page          0\n",
       "4        864975  2017-01-21 01:52:26.210827    control     old_page          1\n",
       "...         ...                         ...        ...          ...        ...\n",
       "294473   751197  2017-01-03 22:28:38.630509    control     old_page          0\n",
       "294474   945152  2017-01-12 00:51:57.078372    control     old_page          0\n",
       "294475   734608  2017-01-22 11:45:03.439544    control     old_page          0\n",
       "294476   697314  2017-01-15 01:20:28.957438    control     old_page          0\n",
       "294477   715931  2017-01-16 12:40:24.467417  treatment     new_page          0\n",
       "\n",
       "[294478 rows x 5 columns]"
      ]
     },
     "execution_count": 4,
     "metadata": {},
     "output_type": "execute_result"
    }
   ],
   "source": [
    "df"
   ]
  },
  {
   "cell_type": "code",
   "execution_count": 5,
   "id": "660fe687-a50c-48a0-9aaa-50e65050653d",
   "metadata": {},
   "outputs": [
    {
     "data": {
      "text/plain": [
       "user_id         0\n",
       "timestamp       0\n",
       "group           0\n",
       "landing_page    0\n",
       "converted       0\n",
       "dtype: int64"
      ]
     },
     "execution_count": 5,
     "metadata": {},
     "output_type": "execute_result"
    }
   ],
   "source": [
    "#les valeurs manquantes \n",
    "df.isnull().sum()\n"
   ]
  },
  {
   "cell_type": "markdown",
   "id": "79a49a9b-ac35-4cb2-aa39-36d4d254a99b",
   "metadata": {},
   "source": [
    "il y a aucune valeur manquante "
   ]
  },
  {
   "cell_type": "code",
   "execution_count": 10,
   "id": "e3a9d8ae-a245-4df6-90e7-835576537c3a",
   "metadata": {},
   "outputs": [
    {
     "name": "stdout",
     "output_type": "stream",
     "text": [
      "        user_id                   timestamp      group landing_page  converted\n",
      "22       767017  2017-01-12 22:58:14.991443    control     new_page          0\n",
      "240      733976  2017-01-11 15:11:16.407599    control     new_page          0\n",
      "308      857184  2017-01-20 07:34:59.832626  treatment     old_page          0\n",
      "327      686623  2017-01-09 14:26:40.734775  treatment     old_page          0\n",
      "357      856078  2017-01-12 12:29:30.354835  treatment     old_page          0\n",
      "...         ...                         ...        ...          ...        ...\n",
      "294014   813406  2017-01-09 06:25:33.223301  treatment     old_page          0\n",
      "294200   928506  2017-01-13 21:32:10.491309    control     new_page          0\n",
      "294252   892498  2017-01-22 01:11:10.463211  treatment     old_page          0\n",
      "294253   886135  2017-01-06 12:49:20.509403    control     new_page          0\n",
      "294331   689637  2017-01-13 11:34:28.339532    control     new_page          0\n",
      "\n",
      "[3893 rows x 5 columns]\n"
     ]
    }
   ],
   "source": [
    "# vérifier si y a des incohérences : \n",
    "\n",
    "incoherence = df.query( \"(group == 'control' and landing_page == 'new_page') or\\\n",
    "                        (group == 'treatment' and landing_page == 'old_page')\")\n",
    "print(incoherence)"
   ]
  },
  {
   "cell_type": "code",
   "execution_count": 12,
   "id": "88e800c0-82f9-4cf9-9abb-8231e913b693",
   "metadata": {},
   "outputs": [
    {
     "name": "stdout",
     "output_type": "stream",
     "text": [
      "        user_id                   timestamp      group landing_page  converted\n",
      "0        851104  2017-01-21 22:11:48.556739    control     old_page          0\n",
      "1        804228  2017-01-12 08:01:45.159739    control     old_page          0\n",
      "2        661590  2017-01-11 16:55:06.154213  treatment     new_page          0\n",
      "3        853541  2017-01-08 18:28:03.143765  treatment     new_page          0\n",
      "4        864975  2017-01-21 01:52:26.210827    control     old_page          1\n",
      "...         ...                         ...        ...          ...        ...\n",
      "294473   751197  2017-01-03 22:28:38.630509    control     old_page          0\n",
      "294474   945152  2017-01-12 00:51:57.078372    control     old_page          0\n",
      "294475   734608  2017-01-22 11:45:03.439544    control     old_page          0\n",
      "294476   697314  2017-01-15 01:20:28.957438    control     old_page          0\n",
      "294477   715931  2017-01-16 12:40:24.467417  treatment     new_page          0\n",
      "\n",
      "[290585 rows x 5 columns]\n"
     ]
    }
   ],
   "source": [
    "#Correction des incohérence , on garde que les données correctes \n",
    "\n",
    "df_clean = df.query( \"(group == 'control' and landing_page == 'old_page') or\\\n",
    "                        (group == 'treatment' and landing_page == 'new_page')\")\n",
    "print(df_clean)"
   ]
  },
  {
   "cell_type": "code",
   "execution_count": 23,
   "id": "94347832-8b3a-4e6a-8233-92957d149046",
   "metadata": {},
   "outputs": [
    {
     "name": "stdout",
     "output_type": "stream",
     "text": [
      "1\n"
     ]
    }
   ],
   "source": [
    "#vérification des doublons \n",
    "#nombre tatal de lignes\n",
    "total_lignes = df_clean.shape[0]\n",
    "\n",
    "#nombre d'ID unique \n",
    "id_unique = df_clean[\"user_id\"].nunique()\n",
    "\n",
    "#nombre de doublons \n",
    "doublons = total_lignes - id_unique \n",
    "\n",
    "print(doublons)"
   ]
  },
  {
   "cell_type": "code",
   "execution_count": 24,
   "id": "ecb6cdc4-8b58-49ff-b69e-47e244610cde",
   "metadata": {},
   "outputs": [],
   "source": [
    "# suppression des doublons \n",
    "df_clean = df_clean.drop_duplicates(\"user_id\", keep=\"first\")\n"
   ]
  },
  {
   "cell_type": "code",
   "execution_count": 25,
   "id": "12e6a4b6-5955-4a0c-aa09-9269f16dcd90",
   "metadata": {},
   "outputs": [
    {
     "name": "stdout",
     "output_type": "stream",
     "text": [
      "group\n",
      "treatment    145310\n",
      "control      145274\n",
      "Name: count, dtype: int64\n"
     ]
    }
   ],
   "source": [
    "### pie chart (repartition des groupes )\n",
    "counts = df_clean[\"group\"].value_counts()\n",
    "print(counts)"
   ]
  },
  {
   "cell_type": "code",
   "execution_count": 26,
   "id": "7256b08b-1a8f-42c4-ad16-7271bc1e2512",
   "metadata": {},
   "outputs": [
    {
     "data": {
      "image/png": "[encoded data removed]",
      "text/plain": [
       "<Figure size 640x480 with 1 Axes>"
      ]
     },
     "metadata": {},
     "output_type": "display_data"
    }
   ],
   "source": [
    "plt.pie(counts, labels = counts.index, #noms des groupes(control, treatment)\n",
    "        autopct = \"%.2f%%\", #pour afficher le pourcentage \n",
    "        colors = [\"blue\", \"orange\"],\n",
    "       startangle =90)\n",
    "plt.title(\"Répartition des utilisateurs par groupe \")\n",
    "plt.show()"
   ]
  },
  {
   "cell_type": "markdown",
   "id": "22049d30-987d-4028-ab90-1b8e3890640d",
   "metadata": {},
   "source": [
    "### Taux de conversion : \n",
    "Colonne converted = indicateur qui dit si l'utilisateur a realisé l'action attendue apres avoir vu la page. \n"
   ]
  },
  {
   "cell_type": "code",
   "execution_count": 27,
   "id": "490c2b7e-311c-4422-a3a2-90908f4d591d",
   "metadata": {},
   "outputs": [
    {
     "name": "stdout",
     "output_type": "stream",
     "text": [
      "group\n",
      "control      0.120386\n",
      "treatment    0.118808\n",
      "Name: converted, dtype: float64\n"
     ]
    }
   ],
   "source": [
    "# taux de conversion par groupe \n",
    "taux_conversion = df_clean.groupby(\"group\")[\"converted\"].mean()\n",
    "print(taux_conversion)"
   ]
  },
  {
   "cell_type": "markdown",
   "id": "0e543d75-d18b-4291-af00-84ecf29c8ceb",
   "metadata": {},
   "source": [
    "D'apres les résultats on voit que 12% des utilisateurs du groupe control et 11% du groupe treatment ont réalisé l'action attendue "
   ]
  },
  {
   "cell_type": "markdown",
   "id": "5443651f-4aa5-4d79-8202-67949dc9a744",
   "metadata": {},
   "source": [
    "### Définition des hypothèses : \n",
    "##### H0 : les taux de conversion sont identiques \n",
    "##### H1 : les taux de conversion sont différents "
   ]
  },
  {
   "cell_type": "markdown",
   "id": "fdb8d352-87d7-4865-82f1-754de9fc50ac",
   "metadata": {},
   "source": [
    "### Test statistique "
   ]
  },
  {
   "cell_type": "markdown",
   "id": "9d5ff14b-5e3c-4dc5-bb38-11ae6ac6dbea",
   "metadata": {},
   "source": [
    "#### Z-test pour proportions "
   ]
  },
  {
   "cell_type": "code",
   "execution_count": 37,
   "id": "52caf74d-eba7-4ac4-80ab-424a8c895f02",
   "metadata": {},
   "outputs": [
    {
     "name": "stdout",
     "output_type": "stream",
     "text": [
      "Z-test pour la proportion : \n",
      "Z score : -1.2616957421858055\n",
      "p-value : 0.2070582896065547\n",
      "non significative\n"
     ]
    }
   ],
   "source": [
    "# compter les conversions et effectif : \n",
    "conv_control = df_clean.query(\"group == 'control'\")[\"converted\"].sum()\n",
    "n_control = df_clean.query(\"group == 'treatment'\").shape[0]\n",
    "\n",
    "conv_treatment = df_clean.query(\"group == 'treatment'\")[\"converted\"].sum()\n",
    "n_treatment = df_clean.query(\"group == 'control'\").shape[0]\n",
    "\n",
    "#prpoportions observées \n",
    "p_control = conv_control / n_control\n",
    "p_treatment = conv_treatment / n_treatment \n",
    "\n",
    "#proportion combinée sous H0 \n",
    "\n",
    "p_combined = (conv_control + conv_treatment ) / (n_control + n_treatment )\n",
    "\n",
    "# Ecart type \n",
    "SE = np.sqrt(p_combined *(1 - p_combined) * (1/n_control + 1/n_treatment ))\n",
    "\n",
    "#stat Z \n",
    "z_score = (p_treatment - p_control) / SE\n",
    "\n",
    "#p_value(bilatérale) \n",
    "\n",
    "p_value = 2 * (1 - norm.cdf(abs(z_score)))\n",
    "\n",
    "print(\"Z-test pour la proportion : \")\n",
    "print(\"Z score :\",z_score)\n",
    "print(\"p-value :\", p_value)\n",
    "\n",
    "if p_value < 0.05:\n",
    "    print(\"difference significative\")\n",
    "else:\n",
    "    print(\"non significative\")"
   ]
  },
  {
   "cell_type": "code",
   "execution_count": null,
   "id": "4ae8b142-d7db-4efc-859d-db254b9bc656",
   "metadata": {},
   "outputs": [],
   "source": []
  },
  {
   "cell_type": "code",
   "execution_count": 39,
   "id": "05c34f41-f764-4fc2-8e41-05494afdab65",
   "metadata": {},
   "outputs": [
    {
     "name": "stdout",
     "output_type": "stream",
     "text": [
      "Table de contingence :\n",
      " converted       0      1\n",
      "group                   \n",
      "control    127785  17489\n",
      "treatment  128046  17264\n",
      "\n",
      "Chi² test d'indépendance :\n",
      " - Chi² : 1.7035660051885058\n",
      " - ddl : 1\n",
      " - p-value : 0.19182228096235662\n"
     ]
    }
   ],
   "source": [
    "# Construire la table de contingence\n",
    "table = pd.crosstab(df_clean[\"group\"], df_clean[\"converted\"])\n",
    "print(\"Table de contingence :\\n\", table)\n",
    "\n",
    "# Test du Chi²\n",
    "chi2, p_value, dof, expected = chi2_contingency(table)\n",
    "\n",
    "print(\"\\nChi² test d'indépendance :\")\n",
    "print(\" - Chi² :\", chi2)\n",
    "print(\" - ddl :\", dof)\n",
    "print(\" - p-value :\", p_value)"
   ]
  },
  {
   "cell_type": "markdown",
   "id": "1b42f9a7-2e33-4fd4-973c-faf28ec582a1",
   "metadata": {},
   "source": [
    "vu que la p-value qui est largement supérieur à 5% donc on ne rejette pas l'hypothèse H0 car il n ya pas de différence statistique significative entre l'ancienne(control) et la nouvelle version(treatment)"
   ]
  },
  {
   "cell_type": "markdown",
   "id": "5942ecb4-770b-41d3-923b-5c83e7185994",
   "metadata": {},
   "source": [
    "### Différence de conversion entre groupes : "
   ]
  },
  {
   "cell_type": "code",
   "execution_count": 40,
   "id": "1b4941a1-5074-4223-8e98-9c2c060107a3",
   "metadata": {},
   "outputs": [
    {
     "name": "stdout",
     "output_type": "stream",
     "text": [
      "Différence de conversion (treatment - control) : -0.0015782389853555567\n"
     ]
    }
   ],
   "source": [
    "# Taux de conversion par groupe \n",
    "conv_rates = df_clean.groupby(\"group\")[\"converted\"].mean() \n",
    "diff = conv_rates[\"treatment\"] - conv_rates[\"control\"] \n",
    "print(\"Différence de conversion (treatment - control) :\", diff)\n",
    " "
   ]
  },
  {
   "cell_type": "markdown",
   "id": "f0337f62-2cd7-40f1-9262-349077d8a363",
   "metadata": {},
   "source": [
    "### Intervalle de confiance à 95 %"
   ]
  },
  {
   "cell_type": "markdown",
   "id": "0c8dc863-71d9-421a-b4cc-cebbe01b2fb2",
   "metadata": {},
   "source": [
    "n utilise la formule classique pour un IC sur la différence de proportions :\n",
    "IC=(diff−1.96×SE,  diff+1.96×SE)\n",
    "IC=(diff−1.96×SE,diff+1.96×SE)"
   ]
  },
  {
   "cell_type": "code",
   "execution_count": 45,
   "id": "d5bcb1ed-7840-4679-a1ae-18b301c03268",
   "metadata": {},
   "outputs": [
    {
     "name": "stdout",
     "output_type": "stream",
     "text": [
      "Différence : -0.0015782389853555567\n",
      "Intervalle de confiance à 95% : (-0.003937903604443846, 0.0007814256337327326)\n"
     ]
    }
   ],
   "source": [
    "# Variables \n",
    "p_c = conv_rates[\"control\"] \n",
    "p_t = conv_rates[\"treatment\"]\n",
    "n_c = df_clean.query(\"group == 'control'\").shape[0] \n",
    "n_t = df_clean.query(\"group == 'treatment'\").shape[0]\n",
    "# Différence \n",
    "diff = p_t - p_c \n",
    "# Ecart-type de la différence \n",
    "SE = np.sqrt(p_c*(1-p_c)/n_c + p_t*(1-p_t)/n_t) \n",
    "# Intervalle de confiance \n",
    "z = 1.96 \n",
    "# pour 95% \n",
    "ci_lower = diff - z*SE \n",
    "ci_upper = diff + z*SE \n",
    "print(\"Différence :\", diff) \n",
    "print(\"Intervalle de confiance à 95% :\", (ci_lower, ci_upper)) "
   ]
  },
  {
   "cell_type": "markdown",
   "id": "fa006a8e-d254-42b5-a743-9d5682e227d1",
   "metadata": {},
   "source": [
    "### Barplot comparant les taux de conversion"
   ]
  },
  {
   "cell_type": "code",
   "execution_count": 50,
   "id": "6ab3bca2-f91d-4d7f-9a55-f4fd8a45ee5e",
   "metadata": {},
   "outputs": [
    {
     "data": {
      "image/png": "[encoded data removed]",
      "text/plain": [
       "<Figure size 640x480 with 1 Axes>"
      ]
     },
     "metadata": {},
     "output_type": "display_data"
    }
   ],
   "source": [
    "conv_rates.plot(kind=\"bar\", color=[\"blue\", \"green\"])\n",
    "plt.ylabel(\"Taux de conversion\") \n",
    "plt.title(\"Comparaison des taux de conversion\") \n",
    "plt.xticks(rotation=0)\n",
    "plt.show()"
   ]
  }
 ],
 "metadata": {
  "kernelspec": {
   "display_name": "Python 3 (ipykernel)",
   "language": "python",
   "name": "python3"
  },
  "language_info": {
   "codemirror_mode": {
    "name": "ipython",
    "version": 3
   },
   "file_extension": ".py",
   "mimetype": "text/x-python",
   "name": "python",
   "nbconvert_exporter": "python",
   "pygments_lexer": "ipython3",
   "version": "3.12.5"
  }
 },
 "nbformat": 4,
 "nbformat_minor": 5
}
